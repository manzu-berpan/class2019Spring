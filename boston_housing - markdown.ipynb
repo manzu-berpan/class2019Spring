{
 "cells": [
  {
   "cell_type": "markdown",
   "metadata": {},
   "source": [
    "### 보스턴의 집값에 영향을 미치는 요소들을 입력값으로 두고 나오는 집값들이 출력값이다.\n",
    "### 입력 요소엔 범죄율, 접근성, 흑인수, 저속등층, 찰스강이 보이는가 등 다양한 요소들이 있다. \n",
    "\n",
    "### 일반적으로 우리가 공부하는 Y=aX+b에서 Y는 대게 레그레션한(연속적인)값이다. 허나 우리가 원하는 현실의 값들은 주로  yes or no/ red or blue 같이 categorical한 값이기 때문에 우리는  해당 식을 sigmoid 등의 식을 이용해 not linear 하게 만들어준다."
   ]
  },
  {
   "cell_type": "code",
   "execution_count": 1,
   "metadata": {},
   "outputs": [],
   "source": [
    "# description\n",
    "# https://www.kaggle.com/c/boston-housing\n",
    "\n",
    "# TensorFlow and tf.keras\n",
    "import tensorflow\n",
    "from tensorflow.keras.models import Sequential\n",
    "from tensorflow.keras.layers import Dense\n",
    "\n",
    "# Helper libraries\n",
    "import numpy as np\n",
    "import matplotlib.pyplot as plt"
   ]
  },
  {
   "cell_type": "markdown",
   "metadata": {},
   "source": [
    "### boston_housing.npz 이 파일이 부재해서 진행이 안되는 것 같습니다."
   ]
  },
  {
   "cell_type": "code",
   "execution_count": 2,
   "metadata": {},
   "outputs": [
    {
     "ename": "SyntaxError",
     "evalue": "invalid syntax (<ipython-input-2-769ce6932225>, line 1)",
     "output_type": "error",
     "traceback": [
      "\u001b[1;36m  File \u001b[1;32m\"<ipython-input-2-769ce6932225>\"\u001b[1;36m, line \u001b[1;32m1\u001b[0m\n\u001b[1;33m    (x_train, y_train), (x_test, y_test) =\u001b[0m\n\u001b[1;37m                                           ^\u001b[0m\n\u001b[1;31mSyntaxError\u001b[0m\u001b[1;31m:\u001b[0m invalid syntax\n"
     ]
    }
   ],
   "source": [
    "(x_train, y_train), (x_test, y_test) = \n",
    "tensorflow.keras.datasets.boston_housing.load_data(path='boston_housing.npz')"
   ]
  },
  {
   "cell_type": "markdown",
   "metadata": {},
   "source": [
    "\n",
    "###  Sequential 한 모델이다. \n",
    "### model.add(Dense(1, input_shape=[13])) - [13]:입력이 13개 1: 출력이 1개인 상태\n",
    "### Dense : fully connected (오밀조밀하게 서로서로 다 연결 돼있는것)\n"
   ]
  },
  {
   "cell_type": "code",
   "execution_count": 4,
   "metadata": {},
   "outputs": [
    {
     "name": "stdout",
     "output_type": "stream",
     "text": [
      "_________________________________________________________________\n",
      "Layer (type)                 Output Shape              Param #   \n",
      "=================================================================\n",
      "dense_1 (Dense)              (None, 1)                 14        \n",
      "=================================================================\n",
      "Total params: 14\n",
      "Trainable params: 14\n",
      "Non-trainable params: 0\n",
      "_________________________________________________________________\n"
     ]
    }
   ],
   "source": [
    "model = Sequential()\n",
    "model.add(Dense(1, input_shape=[13]))\n",
    "model.compile(optimizer='rmsprop', loss='mse')\n",
    "model.summary()"
   ]
  },
  {
   "cell_type": "markdown",
   "metadata": {},
   "source": [
    "model.fit() - 만든 모델을 트레이닝하는 것\n",
    "epochs=1000 1000번 돌린다."
   ]
  },
  {
   "cell_type": "code",
   "execution_count": 5,
   "metadata": {
    "scrolled": true
   },
   "outputs": [
    {
     "ename": "NameError",
     "evalue": "name 'x_train' is not defined",
     "output_type": "error",
     "traceback": [
      "\u001b[1;31m---------------------------------------------------------------------------\u001b[0m",
      "\u001b[1;31mNameError\u001b[0m                                 Traceback (most recent call last)",
      "\u001b[1;32m<ipython-input-5-a5e6a9bff808>\u001b[0m in \u001b[0;36m<module>\u001b[1;34m\u001b[0m\n\u001b[1;32m----> 1\u001b[1;33m \u001b[0mmodel\u001b[0m\u001b[1;33m.\u001b[0m\u001b[0mfit\u001b[0m\u001b[1;33m(\u001b[0m\u001b[0mx_train\u001b[0m\u001b[1;33m,\u001b[0m \u001b[0my_train\u001b[0m\u001b[1;33m,\u001b[0m \u001b[0mepochs\u001b[0m\u001b[1;33m=\u001b[0m\u001b[1;36m1000\u001b[0m\u001b[1;33m)\u001b[0m\u001b[1;33m\u001b[0m\u001b[1;33m\u001b[0m\u001b[0m\n\u001b[0m",
      "\u001b[1;31mNameError\u001b[0m: name 'x_train' is not defined"
     ]
    }
   ],
   "source": [
    "model.fit(x_train, y_train, epochs=1000)"
   ]
  },
  {
   "cell_type": "markdown",
   "metadata": {},
   "source": [
    "### 만든 모델을 평가한다."
   ]
  },
  {
   "cell_type": "code",
   "execution_count": 6,
   "metadata": {
    "scrolled": true
   },
   "outputs": [
    {
     "ename": "NameError",
     "evalue": "name 'x_test' is not defined",
     "output_type": "error",
     "traceback": [
      "\u001b[1;31m---------------------------------------------------------------------------\u001b[0m",
      "\u001b[1;31mNameError\u001b[0m                                 Traceback (most recent call last)",
      "\u001b[1;32m<ipython-input-6-113a54cbdef7>\u001b[0m in \u001b[0;36m<module>\u001b[1;34m\u001b[0m\n\u001b[1;32m----> 1\u001b[1;33m \u001b[0mmodel\u001b[0m\u001b[1;33m.\u001b[0m\u001b[0mevaluate\u001b[0m\u001b[1;33m(\u001b[0m\u001b[0mx_test\u001b[0m\u001b[1;33m,\u001b[0m \u001b[0my_test\u001b[0m\u001b[1;33m)\u001b[0m\u001b[1;33m\u001b[0m\u001b[1;33m\u001b[0m\u001b[0m\n\u001b[0m",
      "\u001b[1;31mNameError\u001b[0m: name 'x_test' is not defined"
     ]
    }
   ],
   "source": [
    "model.evaluate(x_test, y_test)"
   ]
  },
  {
   "cell_type": "code",
   "execution_count": 7,
   "metadata": {},
   "outputs": [
    {
     "name": "stdout",
     "output_type": "stream",
     "text": [
      "(None, 13)\n",
      "(None, 1)\n"
     ]
    }
   ],
   "source": [
    "print(model.input_shape)\n",
    "print(model.output_shape)"
   ]
  },
  {
   "cell_type": "code",
   "execution_count": 8,
   "metadata": {},
   "outputs": [
    {
     "data": {
      "text/plain": [
       "array([[576.7395]], dtype=float32)"
      ]
     },
     "execution_count": 8,
     "metadata": {},
     "output_type": "execute_result"
    }
   ],
   "source": [
    "# INPUT::\n",
    "# 1. crim: per capita crime rate by town.\n",
    "# 2. zn: proportion of residential land zoned for lots over 25,000 sq.ft.\n",
    "# 3. indus: proportion of non-retail business acres per town.\n",
    "# 4. chas: Charles River dummy variable (= 1 if tract bounds river; 0 otherwise).\n",
    "# 5. nox: nitrogen oxides concentration (parts per 10 million).\n",
    "# 6. rm: average number of rooms per dwelling.\n",
    "# 7. age: proportion of owner-occupied units built prior to 1940.\n",
    "# 8. dis: weighted mean of distances to five Boston employment centres.\n",
    "# 9. rad: index of accessibility to radial highways.\n",
    "# 10. tax: full-value property-tax rate per $10,000.\n",
    "# 11. ptratio: pupil-teacher ratio by town.\n",
    "# 12. black: 1000(Bk - 0.63)^2 where Bk is the proportion of blacks by town.\n",
    "# 13. lstat: lower status of the population (percent).\n",
    "\n",
    "# TARGET::\n",
    "# medv: median value of owner-occupied homes in $1000s.\n",
    "\n",
    "model.predict(np.array([0, 1, 50, 1, 0, 5, .5, 10, 1000, 100, 10, 100, 1]).reshape(1,13))"
   ]
  },
  {
   "cell_type": "markdown",
   "metadata": {},
   "source": [
    "### 범죄율과 주거지 비율, 찰스강이 안보이게 되자 집값이 떨어졌음을 확인할 수 있습니다."
   ]
  },
  {
   "cell_type": "code",
   "execution_count": 9,
   "metadata": {},
   "outputs": [
    {
     "data": {
      "text/plain": [
       "array([[559.05475]], dtype=float32)"
      ]
     },
     "execution_count": 9,
     "metadata": {},
     "output_type": "execute_result"
    }
   ],
   "source": [
    "model.predict(np.array([3, 3, 20, 0, 1, 1, .2, 10, 1000, 100, 10, 100, 1]).reshape(1,13))"
   ]
  },
  {
   "cell_type": "markdown",
   "metadata": {},
   "source": [
    "indus,rm,dis,rad 등의 값을 긍정적으로 변화시키자 집 값이 올랐음을 확인 할 수 있습니다."
   ]
  },
  {
   "cell_type": "code",
   "execution_count": 10,
   "metadata": {
    "scrolled": true
   },
   "outputs": [
    {
     "data": {
      "text/plain": [
       "array([[610.7368]], dtype=float32)"
      ]
     },
     "execution_count": 10,
     "metadata": {},
     "output_type": "execute_result"
    }
   ],
   "source": [
    "model.predict(np.array([0, 1, 100, 1, 0, 15, .5, 30, 1000, 100, 10, 100, 1]).reshape(1,13))"
   ]
  },
  {
   "cell_type": "code",
   "execution_count": null,
   "metadata": {},
   "outputs": [],
   "source": []
  }
 ],
 "metadata": {
  "kernelspec": {
   "display_name": "Python 3",
   "language": "python",
   "name": "python3"
  },
  "language_info": {
   "codemirror_mode": {
    "name": "ipython",
    "version": 3
   },
   "file_extension": ".py",
   "mimetype": "text/x-python",
   "name": "python",
   "nbconvert_exporter": "python",
   "pygments_lexer": "ipython3",
   "version": "3.7.1"
  }
 },
 "nbformat": 4,
 "nbformat_minor": 2
}

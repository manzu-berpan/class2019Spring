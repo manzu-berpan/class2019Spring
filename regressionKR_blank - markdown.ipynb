{
 "cells": [
  {
   "cell_type": "markdown",
   "metadata": {},
   "source": [
    "### tensorflow 안깔려 있으면 anconda promt에 conda install tensorflow를 입력해 설치해준다. "
   ]
  },
  {
   "cell_type": "markdown",
   "metadata": {},
   "source": [
    "# import modules"
   ]
  },
  {
   "cell_type": "code",
   "execution_count": 7,
   "metadata": {
    "scrolled": true
   },
   "outputs": [],
   "source": [
    "import pandas as pd\n",
    "import numpy as np\n",
    "import matplotlib.pyplot as plt\n",
    "\n",
    "from tensorflow.keras.models import Sequential\n",
    "from tensorflow.keras.layers import Dense"
   ]
  },
  {
   "cell_type": "markdown",
   "metadata": {},
   "source": [
    "# data preparation and visualization"
   ]
  },
  {
   "cell_type": "markdown",
   "metadata": {},
   "source": [
    "Y=ax+b 에서 Y와 X는 주어진 데이터값 a와b를 찾는 거임.\n",
    "데이터 값에 x가 2개라면? - Y = a1x1 + a2x2 + b (b는 정해진 값) 찾는 값은 3개\n",
    "입력(x)3개 출력(y)2개라면? - y1=a1x1 + a2x2 + a3x3 + b / y2 = a4x1 + a5x2 + a6x3 + b2\n",
    "찾는 값은 총 8개 "
   ]
  },
  {
   "cell_type": "markdown",
   "metadata": {},
   "source": [
    "Y=ax+b 이런 형태를 모델이라 부르자."
   ]
  },
  {
   "cell_type": "code",
   "execution_count": 4,
   "metadata": {
    "scrolled": false
   },
   "outputs": [
    {
     "data": {
      "text/html": [
       "<div>\n",
       "<style scoped>\n",
       "    .dataframe tbody tr th:only-of-type {\n",
       "        vertical-align: middle;\n",
       "    }\n",
       "\n",
       "    .dataframe tbody tr th {\n",
       "        vertical-align: top;\n",
       "    }\n",
       "\n",
       "    .dataframe thead th {\n",
       "        text-align: right;\n",
       "    }\n",
       "</style>\n",
       "<table border=\"1\" class=\"dataframe\">\n",
       "  <thead>\n",
       "    <tr style=\"text-align: right;\">\n",
       "      <th></th>\n",
       "      <th>X</th>\n",
       "      <th>Y</th>\n",
       "    </tr>\n",
       "  </thead>\n",
       "  <tbody>\n",
       "    <tr>\n",
       "      <th>0</th>\n",
       "      <td>3.300</td>\n",
       "      <td>1.700</td>\n",
       "    </tr>\n",
       "    <tr>\n",
       "      <th>1</th>\n",
       "      <td>4.400</td>\n",
       "      <td>2.760</td>\n",
       "    </tr>\n",
       "    <tr>\n",
       "      <th>2</th>\n",
       "      <td>5.500</td>\n",
       "      <td>2.090</td>\n",
       "    </tr>\n",
       "    <tr>\n",
       "      <th>3</th>\n",
       "      <td>6.710</td>\n",
       "      <td>3.190</td>\n",
       "    </tr>\n",
       "    <tr>\n",
       "      <th>4</th>\n",
       "      <td>6.930</td>\n",
       "      <td>1.694</td>\n",
       "    </tr>\n",
       "    <tr>\n",
       "      <th>5</th>\n",
       "      <td>4.168</td>\n",
       "      <td>1.573</td>\n",
       "    </tr>\n",
       "    <tr>\n",
       "      <th>6</th>\n",
       "      <td>9.779</td>\n",
       "      <td>3.366</td>\n",
       "    </tr>\n",
       "    <tr>\n",
       "      <th>7</th>\n",
       "      <td>6.182</td>\n",
       "      <td>2.596</td>\n",
       "    </tr>\n",
       "    <tr>\n",
       "      <th>8</th>\n",
       "      <td>7.590</td>\n",
       "      <td>2.530</td>\n",
       "    </tr>\n",
       "    <tr>\n",
       "      <th>9</th>\n",
       "      <td>2.167</td>\n",
       "      <td>1.221</td>\n",
       "    </tr>\n",
       "    <tr>\n",
       "      <th>10</th>\n",
       "      <td>7.042</td>\n",
       "      <td>2.827</td>\n",
       "    </tr>\n",
       "    <tr>\n",
       "      <th>11</th>\n",
       "      <td>10.791</td>\n",
       "      <td>3.465</td>\n",
       "    </tr>\n",
       "    <tr>\n",
       "      <th>12</th>\n",
       "      <td>5.313</td>\n",
       "      <td>1.650</td>\n",
       "    </tr>\n",
       "    <tr>\n",
       "      <th>13</th>\n",
       "      <td>7.997</td>\n",
       "      <td>2.904</td>\n",
       "    </tr>\n",
       "    <tr>\n",
       "      <th>14</th>\n",
       "      <td>5.654</td>\n",
       "      <td>2.420</td>\n",
       "    </tr>\n",
       "    <tr>\n",
       "      <th>15</th>\n",
       "      <td>9.270</td>\n",
       "      <td>2.940</td>\n",
       "    </tr>\n",
       "    <tr>\n",
       "      <th>16</th>\n",
       "      <td>3.100</td>\n",
       "      <td>1.300</td>\n",
       "    </tr>\n",
       "  </tbody>\n",
       "</table>\n",
       "</div>"
      ],
      "text/plain": [
       "         X      Y\n",
       "0    3.300  1.700\n",
       "1    4.400  2.760\n",
       "2    5.500  2.090\n",
       "3    6.710  3.190\n",
       "4    6.930  1.694\n",
       "5    4.168  1.573\n",
       "6    9.779  3.366\n",
       "7    6.182  2.596\n",
       "8    7.590  2.530\n",
       "9    2.167  1.221\n",
       "10   7.042  2.827\n",
       "11  10.791  3.465\n",
       "12   5.313  1.650\n",
       "13   7.997  2.904\n",
       "14   5.654  2.420\n",
       "15   9.270  2.940\n",
       "16   3.100  1.300"
      ]
     },
     "execution_count": 4,
     "metadata": {},
     "output_type": "execute_result"
    }
   ],
   "source": [
    "pd.read_csv('regression.csv')"
   ]
  },
  {
   "cell_type": "markdown",
   "metadata": {},
   "source": [
    "### regression.csv 값을 가져 온후 data로 설정해준다. X= data['x']를 해줌으로써 x값만 표시해줄 수 있다. plt.plot(X,Y,'.') 값들의 패턴을 그래프로 표현해준다. ' ' 이 사이에 넣는 기호로 표현된다.\n",
    "plt.plot(X,Y)이렇게만 돼 있으면 선으로 표현돼서 들쭉날쭉하게 나온다. 이게 디폴트값임\n",
    "x값이 여러개라면  X= data['X1'] 이런식으로 번호 설정해주면 됨"
   ]
  },
  {
   "cell_type": "markdown",
   "metadata": {},
   "source": [
    "x가 하나 y가 하나라 plotable 했던 것이다. 차원이 높아지면 표현이 쉽게 안됨. \n",
    "입력2개 출력 1개 (y= a1x1+a2x2+b) 정도는 생각이 가능 4차원 부터는 생각 자체가 안됨.\n"
   ]
  },
  {
   "cell_type": "code",
   "execution_count": 6,
   "metadata": {},
   "outputs": [
    {
     "data": {
      "text/plain": [
       "[<matplotlib.lines.Line2D at 0x54f2fb40b8>]"
      ]
     },
     "execution_count": 6,
     "metadata": {},
     "output_type": "execute_result"
    },
    {
     "data": {
      "image/png": "[encoded data removed]",
      "text/plain": [
       "<Figure size 432x288 with 1 Axes>"
      ]
     },
     "metadata": {
      "needs_background": "light"
     },
     "output_type": "display_data"
    }
   ],
   "source": [
    "data=pd.read_csv('regression.csv')\n",
    "X= data['X']\n",
    "Y= data['Y']\n",
    "plt.plot(X,Y,'.')"
   ]
  },
  {
   "cell_type": "markdown",
   "metadata": {},
   "source": [
    "# create model"
   ]
  },
  {
   "cell_type": "markdown",
   "metadata": {},
   "source": [
    "시퀀스로 모델의 모양을 정해준다. 여기선\n",
    "optimizer:출력 값과 실제 정답 간의 차이를 조정 해주는데 (어떻게 그 차이를 활용할지) 다양한 방법이 있는데 여기선sgd (일종의 미분 알고리즘)이 쓰였다. \n",
    "loss는 출력된 값과 실제 정답부의 차이를 정의하는 함수\n",
    "데이터 값이 없어서 이것만으론 안된다.\n",
    "\n",
    "model.add(Dense(1, input_shape=[1])) - [1]:입력이 한개 1: 출력이 한개\n",
    "ex) model.add(Dense(2, input_shape=[3])) [3]:입력이 3개 2: 출력이 2개\n",
    "\n",
    "dense- fully connected (오밀조밀하게 서로서로 다 연결 돼있는것)\n"
   ]
  },
  {
   "cell_type": "code",
   "execution_count": 11,
   "metadata": {
    "scrolled": false
   },
   "outputs": [],
   "source": [
    "model = Sequential()\n",
    "model.add(Dense(1, input_shape=[1]))\n",
    "model.compile(optimizer='sgd',loss='mse')"
   ]
  },
  {
   "cell_type": "markdown",
   "metadata": {},
   "source": [
    "# train model"
   ]
  },
  {
   "cell_type": "markdown",
   "metadata": {},
   "source": [
    "model.fit() - 만든 모델을 트레이닝하는 것\n",
    "17/17 데이터들이 다 쓰인 걸 알 수 있다.\n",
    "epochs - 데이터를 몇번 돌릴지 설정하는 것 - 돌리는 횟수가 많을 수록 loss가 줄어드는 걸 볼 수 있다. 끝에는 유효값이 나옴(ex:loss: 1.2552e-04)\n",
    "fit(x,y)로 써야함  fit([x,y])하면 프리딕션이 잘 안됨."
   ]
  },
  {
   "cell_type": "code",
   "execution_count": 24,
   "metadata": {
    "scrolled": true
   },
   "outputs": [
    {
     "name": "stdout",
     "output_type": "stream",
     "text": [
      "Epoch 1/100\n",
      "17/17 [==============================] - 0s 17ms/sample - loss: 2.3659\n",
      "Epoch 2/100\n",
      "17/17 [==============================] - 0s 0s/sample - loss: 0.1795\n",
      "Epoch 3/100\n",
      "17/17 [==============================] - 0s 0s/sample - loss: 0.1590\n",
      "Epoch 4/100\n",
      "17/17 [==============================] - 0s 0s/sample - loss: 0.1588\n",
      "Epoch 5/100\n",
      "17/17 [==============================] - 0s 919us/sample - loss: 0.1587\n",
      "Epoch 6/100\n",
      "17/17 [==============================] - 0s 0s/sample - loss: 0.1587\n",
      "Epoch 7/100\n",
      "17/17 [==============================] - 0s 919us/sample - loss: 0.1587\n",
      "Epoch 8/100\n",
      "17/17 [==============================] - 0s 0s/sample - loss: 0.1587\n",
      "Epoch 9/100\n",
      "17/17 [==============================] - 0s 0s/sample - loss: 0.1586\n",
      "Epoch 10/100\n",
      "17/17 [==============================] - 0s 0s/sample - loss: 0.1586\n",
      "Epoch 11/100\n",
      "17/17 [==============================] - 0s 0s/sample - loss: 0.1586\n",
      "Epoch 12/100\n",
      "17/17 [==============================] - 0s 0s/sample - loss: 0.1586\n",
      "Epoch 13/100\n",
      "17/17 [==============================] - 0s 0s/sample - loss: 0.1585\n",
      "Epoch 14/100\n",
      "17/17 [==============================] - 0s 919us/sample - loss: 0.1585\n",
      "Epoch 15/100\n",
      "17/17 [==============================] - 0s 0s/sample - loss: 0.1585\n",
      "Epoch 16/100\n",
      "17/17 [==============================] - 0s 0s/sample - loss: 0.1585\n",
      "Epoch 17/100\n",
      "17/17 [==============================] - 0s 919us/sample - loss: 0.1585\n",
      "Epoch 18/100\n",
      "17/17 [==============================] - 0s 0s/sample - loss: 0.1584\n",
      "Epoch 19/100\n",
      "17/17 [==============================] - 0s 0s/sample - loss: 0.1584\n",
      "Epoch 20/100\n",
      "17/17 [==============================] - 0s 919us/sample - loss: 0.1584\n",
      "Epoch 21/100\n",
      "17/17 [==============================] - 0s 0s/sample - loss: 0.1584\n",
      "Epoch 22/100\n",
      "17/17 [==============================] - 0s 0s/sample - loss: 0.1583\n",
      "Epoch 23/100\n",
      "17/17 [==============================] - 0s 0s/sample - loss: 0.1583\n",
      "Epoch 24/100\n",
      "17/17 [==============================] - 0s 919us/sample - loss: 0.1583\n",
      "Epoch 25/100\n",
      "17/17 [==============================] - 0s 0s/sample - loss: 0.1583\n",
      "Epoch 26/100\n",
      "17/17 [==============================] - 0s 0s/sample - loss: 0.1583\n",
      "Epoch 27/100\n",
      "17/17 [==============================] - 0s 0s/sample - loss: 0.1582\n",
      "Epoch 28/100\n",
      "17/17 [==============================] - 0s 0s/sample - loss: 0.1582\n",
      "Epoch 29/100\n",
      "17/17 [==============================] - 0s 0s/sample - loss: 0.1582\n",
      "Epoch 30/100\n",
      "17/17 [==============================] - 0s 919us/sample - loss: 0.1582\n",
      "Epoch 31/100\n",
      "17/17 [==============================] - 0s 0s/sample - loss: 0.1582\n",
      "Epoch 32/100\n",
      "17/17 [==============================] - 0s 0s/sample - loss: 0.1581\n",
      "Epoch 33/100\n",
      "17/17 [==============================] - 0s 0s/sample - loss: 0.1581\n",
      "Epoch 34/100\n",
      "17/17 [==============================] - 0s 0s/sample - loss: 0.1581\n",
      "Epoch 35/100\n",
      "17/17 [==============================] - 0s 0s/sample - loss: 0.1581\n",
      "Epoch 36/100\n",
      "17/17 [==============================] - 0s 0s/sample - loss: 0.1580\n",
      "Epoch 37/100\n",
      "17/17 [==============================] - 0s 0s/sample - loss: 0.1580\n",
      "Epoch 38/100\n",
      "17/17 [==============================] - 0s 0s/sample - loss: 0.1580\n",
      "Epoch 39/100\n",
      "17/17 [==============================] - 0s 0s/sample - loss: 0.1580\n",
      "Epoch 40/100\n",
      "17/17 [==============================] - 0s 0s/sample - loss: 0.1580\n",
      "Epoch 41/100\n",
      "17/17 [==============================] - 0s 919us/sample - loss: 0.1579\n",
      "Epoch 42/100\n",
      "17/17 [==============================] - 0s 0s/sample - loss: 0.1579\n",
      "Epoch 43/100\n",
      "17/17 [==============================] - 0s 0s/sample - loss: 0.1579\n",
      "Epoch 44/100\n",
      "17/17 [==============================] - 0s 919us/sample - loss: 0.1579\n",
      "Epoch 45/100\n",
      "17/17 [==============================] - 0s 0s/sample - loss: 0.1579\n",
      "Epoch 46/100\n",
      "17/17 [==============================] - 0s 0s/sample - loss: 0.1578\n",
      "Epoch 47/100\n",
      "17/17 [==============================] - 0s 0s/sample - loss: 0.1578\n",
      "Epoch 48/100\n",
      "17/17 [==============================] - 0s 919us/sample - loss: 0.1578\n",
      "Epoch 49/100\n",
      "17/17 [==============================] - 0s 0s/sample - loss: 0.1578\n",
      "Epoch 50/100\n",
      "17/17 [==============================] - 0s 0s/sample - loss: 0.1578\n",
      "Epoch 51/100\n",
      "17/17 [==============================] - 0s 0s/sample - loss: 0.1578\n",
      "Epoch 52/100\n",
      "17/17 [==============================] - 0s 0s/sample - loss: 0.1577\n",
      "Epoch 53/100\n",
      "17/17 [==============================] - 0s 0s/sample - loss: 0.1577\n",
      "Epoch 54/100\n",
      "17/17 [==============================] - 0s 919us/sample - loss: 0.1577\n",
      "Epoch 55/100\n",
      "17/17 [==============================] - 0s 0s/sample - loss: 0.1577\n",
      "Epoch 56/100\n",
      "17/17 [==============================] - 0s 0s/sample - loss: 0.1577\n",
      "Epoch 57/100\n",
      "17/17 [==============================] - 0s 0s/sample - loss: 0.1576\n",
      "Epoch 58/100\n",
      "17/17 [==============================] - 0s 0s/sample - loss: 0.1576\n",
      "Epoch 59/100\n",
      "17/17 [==============================] - 0s 0s/sample - loss: 0.1576\n",
      "Epoch 60/100\n",
      "17/17 [==============================] - 0s 919us/sample - loss: 0.1576\n",
      "Epoch 61/100\n",
      "17/17 [==============================] - 0s 0s/sample - loss: 0.1576\n",
      "Epoch 62/100\n",
      "17/17 [==============================] - 0s 0s/sample - loss: 0.1576\n",
      "Epoch 63/100\n",
      "17/17 [==============================] - 0s 919us/sample - loss: 0.1575\n",
      "Epoch 64/100\n",
      "17/17 [==============================] - 0s 0s/sample - loss: 0.1575\n",
      "Epoch 65/100\n",
      "17/17 [==============================] - 0s 0s/sample - loss: 0.1575\n",
      "Epoch 66/100\n",
      "17/17 [==============================] - 0s 919us/sample - loss: 0.1575\n",
      "Epoch 67/100\n",
      "17/17 [==============================] - 0s 0s/sample - loss: 0.1575\n",
      "Epoch 68/100\n",
      "17/17 [==============================] - 0s 0s/sample - loss: 0.1574\n",
      "Epoch 69/100\n",
      "17/17 [==============================] - 0s 0s/sample - loss: 0.1574\n",
      "Epoch 70/100\n",
      "17/17 [==============================] - 0s 0s/sample - loss: 0.1574\n",
      "Epoch 71/100\n",
      "17/17 [==============================] - 0s 0s/sample - loss: 0.1574\n",
      "Epoch 72/100\n",
      "17/17 [==============================] - 0s 0s/sample - loss: 0.1574\n",
      "Epoch 73/100\n",
      "17/17 [==============================] - 0s 0s/sample - loss: 0.1574\n",
      "Epoch 74/100\n",
      "17/17 [==============================] - 0s 0s/sample - loss: 0.1573\n",
      "Epoch 75/100\n",
      "17/17 [==============================] - 0s 0s/sample - loss: 0.1573\n",
      "Epoch 76/100\n",
      "17/17 [==============================] - 0s 0s/sample - loss: 0.1573\n",
      "Epoch 77/100\n",
      "17/17 [==============================] - 0s 919us/sample - loss: 0.1573\n",
      "Epoch 78/100\n",
      "17/17 [==============================] - 0s 0s/sample - loss: 0.1573\n",
      "Epoch 79/100\n",
      "17/17 [==============================] - 0s 0s/sample - loss: 0.1573\n",
      "Epoch 80/100\n",
      "17/17 [==============================] - 0s 0s/sample - loss: 0.1572\n",
      "Epoch 81/100\n",
      "17/17 [==============================] - 0s 0s/sample - loss: 0.1572\n",
      "Epoch 82/100\n",
      "17/17 [==============================] - 0s 0s/sample - loss: 0.1572\n",
      "Epoch 83/100\n",
      "17/17 [==============================] - 0s 0s/sample - loss: 0.1572\n",
      "Epoch 84/100\n",
      "17/17 [==============================] - 0s 0s/sample - loss: 0.1572\n",
      "Epoch 85/100\n",
      "17/17 [==============================] - 0s 0s/sample - loss: 0.1572\n",
      "Epoch 86/100\n",
      "17/17 [==============================] - 0s 0s/sample - loss: 0.1571\n",
      "Epoch 87/100\n",
      "17/17 [==============================] - 0s 0s/sample - loss: 0.1571\n",
      "Epoch 88/100\n",
      "17/17 [==============================] - 0s 0s/sample - loss: 0.1571\n",
      "Epoch 89/100\n",
      "17/17 [==============================] - 0s 0s/sample - loss: 0.1571\n",
      "Epoch 90/100\n",
      "17/17 [==============================] - 0s 0s/sample - loss: 0.1571\n",
      "Epoch 91/100\n",
      "17/17 [==============================] - 0s 0s/sample - loss: 0.1571\n",
      "Epoch 92/100\n",
      "17/17 [==============================] - 0s 0s/sample - loss: 0.1570\n",
      "Epoch 93/100\n",
      "17/17 [==============================] - 0s 0s/sample - loss: 0.1570\n",
      "Epoch 94/100\n",
      "17/17 [==============================] - 0s 919us/sample - loss: 0.1570\n",
      "Epoch 95/100\n",
      "17/17 [==============================] - 0s 0s/sample - loss: 0.1570\n",
      "Epoch 96/100\n",
      "17/17 [==============================] - 0s 0s/sample - loss: 0.1570\n",
      "Epoch 97/100\n",
      "17/17 [==============================] - 0s 0s/sample - loss: 0.1570\n",
      "Epoch 98/100\n",
      "17/17 [==============================] - 0s 0s/sample - loss: 0.1570\n",
      "Epoch 99/100\n",
      "17/17 [==============================] - 0s 0s/sample - loss: 0.1569\n",
      "Epoch 100/100\n",
      "17/17 [==============================] - 0s 0s/sample - loss: 0.1569\n"
     ]
    },
    {
     "data": {
      "text/plain": [
       "<tensorflow.python.keras.callbacks.History at 0x54fa8e5e80>"
      ]
     },
     "execution_count": 24,
     "metadata": {},
     "output_type": "execute_result"
    }
   ],
   "source": [
    "model.fit(X,Y,epochs = 100)"
   ]
  },
  {
   "cell_type": "markdown",
   "metadata": {},
   "source": [
    "# model prediction"
   ]
  },
  {
   "cell_type": "markdown",
   "metadata": {},
   "source": [
    "model.predict\n",
    "x값은 내가 임의로 설정, 실제 모델이 2부터 10이니 그와 유사하게 하는게 좋을 것.\n",
    "만들어낸 모델값이 실제로 잘 작동하는지 확인하는 과정\n",
    "파란색은 원래 data , rx(redx)값은 새롭게 넣어준 값\n",
    "예측값은 일직선에 가깝다. (우리 모데을 y=ax기 때문)\n",
    "대문자 소문자 xy는 각각 다른 모델임. 소문자는 비교용으로 만든것 대문자는 만든 모델"
   ]
  },
  {
   "cell_type": "code",
   "execution_count": 25,
   "metadata": {},
   "outputs": [
    {
     "data": {
      "image/png": "[encoded data removed]",
      "text/plain": [
       "<Figure size 432x288 with 1 Axes>"
      ]
     },
     "metadata": {
      "needs_background": "light"
     },
     "output_type": "display_data"
    }
   ],
   "source": [
    "x= [0,1,2,3,4,5,6,7,8,9,10]\n",
    "y = model.predict(x)\n",
    "plt.plot(X,Y, '.')\n",
    "plt.plot(x,y, 'rx')\n",
    "plt.show()"
   ]
  },
  {
   "cell_type": "markdown",
   "metadata": {},
   "source": [
    "# what are a and b in y = ax + b?"
   ]
  },
  {
   "cell_type": "markdown",
   "metadata": {},
   "source": [
    "layer[0]: 첫번쨰 레이어 (우리는 하나만 만들어서..)\n",
    "a,b값을 찾아내는 과정\n",
    "첫번째 값이 a 값 - 눈에 보이는데로 1보다 작음\n",
    "두번째 값은 y절편(b값 - 0에 가까움을 알 수 있다.)"
   ]
  },
  {
   "cell_type": "code",
   "execution_count": 28,
   "metadata": {},
   "outputs": [
    {
     "name": "stdout",
     "output_type": "stream",
     "text": [
      "[array([[0.22947718]], dtype=float32), array([0.9558897], dtype=float32)]\n"
     ]
    }
   ],
   "source": [
    "weights=model.layers[0].get_weights()\n",
    "print(weights)"
   ]
  },
  {
   "cell_type": "code",
   "execution_count": null,
   "metadata": {},
   "outputs": [],
   "source": []
  }
 ],
 "metadata": {
  "kernelspec": {
   "display_name": "Python 3",
   "language": "python",
   "name": "python3"
  },
  "language_info": {
   "codemirror_mode": {
    "name": "ipython",
    "version": 3
   },
   "file_extension": ".py",
   "mimetype": "text/x-python",
   "name": "python",
   "nbconvert_exporter": "python",
   "pygments_lexer": "ipython3",
   "version": "3.7.1"
  }
 },
 "nbformat": 4,
 "nbformat_minor": 1
}
